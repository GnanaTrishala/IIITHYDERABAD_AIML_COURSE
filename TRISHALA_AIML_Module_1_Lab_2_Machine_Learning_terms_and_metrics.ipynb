{
  "cells": [
    {
      "cell_type": "markdown",
      "metadata": {
        "id": "view-in-github",
        "colab_type": "text"
      },
      "source": [
        "<a href=\"https://colab.research.google.com/github/GnanaTrishala/IIITHYDERABAD_AIML_COURSE/blob/main/TRISHALA_AIML_Module_1_Lab_2_Machine_Learning_terms_and_metrics.ipynb\" target=\"_parent\"><img src=\"https://colab.research.google.com/assets/colab-badge.svg\" alt=\"Open In Colab\"/></a>"
      ]
    },
    {
      "cell_type": "markdown",
      "metadata": {
        "id": "3Eu9VZbF01eq"
      },
      "source": [
        "# Machine Learning terms and metrics\n",
        "\n",
        "Module 1, Lab 2\n",
        "\n",
        "In this lab, we will show a part of the ML pipeline by using the California Housing dataset. There are 20640 samples, each with 8 attributes like income of the block, age of the houses per district etc. The task is to predict the cost of the houses per district. We will use the scikit-learn library to load the data and perform some basic data preprocessing and model training. We will also show how to evaluate the model using some common metrics, split the data into training and testing sets, and use cross-validation to get a better estimate of the model's performance."
      ]
    },
    {
      "cell_type": "code",
      "execution_count": 1,
      "metadata": {
        "id": "8qBvyEem0vLi"
      },
      "outputs": [],
      "source": [
        "import numpy as np\n",
        "from sklearn import datasets\n",
        "import matplotlib.pyplot as plt\n",
        "\n",
        "rng = np.random.default_rng(seed=42)"
      ]
    },
    {
      "cell_type": "code",
      "execution_count": 2,
      "metadata": {
        "colab": {
          "base_uri": "https://localhost:8080/"
        },
        "id": "8LpqjN991GGJ",
        "outputId": "ceb81e78-8d76-4ed0-bb14-469b24b75d24"
      },
      "outputs": [
        {
          "output_type": "stream",
          "name": "stdout",
          "text": [
            ".. _california_housing_dataset:\n",
            "\n",
            "California Housing dataset\n",
            "--------------------------\n",
            "\n",
            "**Data Set Characteristics:**\n",
            "\n",
            ":Number of Instances: 20640\n",
            "\n",
            ":Number of Attributes: 8 numeric, predictive attributes and the target\n",
            "\n",
            ":Attribute Information:\n",
            "    - MedInc        median income in block group\n",
            "    - HouseAge      median house age in block group\n",
            "    - AveRooms      average number of rooms per household\n",
            "    - AveBedrms     average number of bedrooms per household\n",
            "    - Population    block group population\n",
            "    - AveOccup      average number of household members\n",
            "    - Latitude      block group latitude\n",
            "    - Longitude     block group longitude\n",
            "\n",
            ":Missing Attribute Values: None\n",
            "\n",
            "This dataset was obtained from the StatLib repository.\n",
            "https://www.dcc.fc.up.pt/~ltorgo/Regression/cal_housing.html\n",
            "\n",
            "The target variable is the median house value for California districts,\n",
            "expressed in hundreds of thousands of dollars ($100,000).\n",
            "\n",
            "This dataset was derived from the 1990 U.S. census, using one row per census\n",
            "block group. A block group is the smallest geographical unit for which the U.S.\n",
            "Census Bureau publishes sample data (a block group typically has a population\n",
            "of 600 to 3,000 people).\n",
            "\n",
            "A household is a group of people residing within a home. Since the average\n",
            "number of rooms and bedrooms in this dataset are provided per household, these\n",
            "columns may take surprisingly large values for block groups with few households\n",
            "and many empty houses, such as vacation resorts.\n",
            "\n",
            "It can be downloaded/loaded using the\n",
            ":func:`sklearn.datasets.fetch_california_housing` function.\n",
            "\n",
            ".. rubric:: References\n",
            "\n",
            "- Pace, R. Kelley and Ronald Barry, Sparse Spatial Autoregressions,\n",
            "  Statistics and Probability Letters, 33 (1997) 291-297\n",
            "\n"
          ]
        }
      ],
      "source": [
        "dataset = datasets.fetch_california_housing()\n",
        "# Dataset description\n",
        "print(dataset.DESCR)"
      ]
    },
    {
      "cell_type": "markdown",
      "metadata": {
        "id": "PCe1VNftevgE"
      },
      "source": [
        "Given below are the list of target values. These correspond to the house value derived considering all the 8 input features and are continuous values. We should use regression models to predict these values but we will start with a simple classification model for the sake of simplicity. We need to just round off the values to the nearest integer and use a classification model to predict the house value."
      ]
    },
    {
      "cell_type": "code",
      "execution_count": 4,
      "metadata": {
        "colab": {
          "base_uri": "https://localhost:8080/"
        },
        "id": "F8K0ggBOevgE",
        "outputId": "115d050b-1797-413a-e74b-4ef7ae594b37"
      },
      "outputs": [
        {
          "output_type": "stream",
          "name": "stdout",
          "text": [
            "Orignal target values: [4 3 3 ... 0 0 0]\n",
            "Target values after conversion: [4 3 3 ... 0 0 0]\n",
            "Input variables shape: (20640, 8)\n",
            "Output variables shape: (20640,)\n"
          ]
        }
      ],
      "source": [
        "print(\"Orignal target values:\", dataset.target)\n",
        "\n",
        "dataset.target = dataset.target.astype(int)\n",
        "\n",
        "print(\"Target values after conversion:\", dataset.target)\n",
        "print(\"Input variables shape:\", dataset.data.shape)\n",
        "print(\"Output variables shape:\", dataset.target.shape)"
      ]
    },
    {
      "cell_type": "markdown",
      "metadata": {
        "id": "iNx4174W5xRg"
      },
      "source": [
        "The simplest model to use for classification is the K-Nearest Neighbors model. We will use this model to predict the house value with a K value of 1. We will also use the accuracy metric to evaluate the model."
      ]
    },
    {
      "cell_type": "code",
      "execution_count": 5,
      "metadata": {
        "id": "07zpydQj1hIQ"
      },
      "outputs": [],
      "source": [
        "def NN1(traindata, trainlabel, query):\n",
        "    \"\"\"\n",
        "    This function takes in the training data, training labels and a query point\n",
        "    and returns the predicted label for the query point using the nearest neighbour algorithm\n",
        "\n",
        "    traindata: numpy array of shape (n,d) where n is the number of samples and d is the number of features\n",
        "    trainlabel: numpy array of shape (n,) where n is the number of samples\n",
        "    query: numpy array of shape (d,) where d is the number of features\n",
        "\n",
        "    returns: the predicted label for the query point which is the label of the training data which is closest to the query point\n",
        "    \"\"\"\n",
        "    diff = (\n",
        "        traindata - query\n",
        "    )  # find the difference between features. Numpy automatically takes care of the size here\n",
        "    sq = diff * diff  # square the differences\n",
        "    dist = sq.sum(1)  # add up the squares\n",
        "    label = trainlabel[np.argmin(dist)]\n",
        "    return label\n",
        "\n",
        "\n",
        "def NN(traindata, trainlabel, testdata):\n",
        "    \"\"\"\n",
        "    This function takes in the training data, training labels and test data\n",
        "    and returns the predicted labels for the test data using the nearest neighbour algorithm\n",
        "\n",
        "    traindata: numpy array of shape (n,d) where n is the number of samples and d is the number of features\n",
        "    trainlabel: numpy array of shape (n,) where n is the number of samples\n",
        "    testdata: numpy array of shape (m,d) where m is the number of test samples and d is the number of features\n",
        "\n",
        "    returns: the predicted labels for the test data which is the label of the training data which is closest to each test point\n",
        "    \"\"\"\n",
        "    predlabel = np.array([NN1(traindata, trainlabel, i) for i in testdata])\n",
        "    return predlabel"
      ]
    },
    {
      "cell_type": "markdown",
      "metadata": {
        "id": "03JktkfIGaje"
      },
      "source": [
        "We will also define a 'random classifier', which randomly allots labels to each sample"
      ]
    },
    {
      "cell_type": "code",
      "execution_count": 6,
      "metadata": {
        "id": "fogWAtjyGhAH"
      },
      "outputs": [],
      "source": [
        "def RandomClassifier(traindata, trainlabel, testdata):\n",
        "    \"\"\"\n",
        "    This function takes in the training data, training labels and test data\n",
        "    and returns the predicted labels for the test data using the random classifier algorithm\n",
        "\n",
        "    In reality, we don't need these arguments but we are passing them to keep the function signature consistent with other classifiers\n",
        "\n",
        "    traindata: numpy array of shape (n,d) where n is the number of samples and d is the number of features\n",
        "    trainlabel: numpy array of shape (n,) where n is the number of samples\n",
        "    testdata: numpy array of shape (m,d) where m is the number of test samples and d is the number of features\n",
        "\n",
        "    returns: the predicted labels for the test data which is a random label from the training data\n",
        "    \"\"\"\n",
        "\n",
        "    classes = np.unique(trainlabel)\n",
        "    rints = rng.integers(low=0, high=len(classes), size=len(testdata))\n",
        "    predlabel = classes[rints]\n",
        "    return predlabel"
      ]
    },
    {
      "cell_type": "markdown",
      "metadata": {
        "id": "1Hjf1KHs7fU5"
      },
      "source": [
        "We need a metric to evaluate the performance of the model. Let us define a metric 'Accuracy' to see how good our learning algorithm is. Accuracy is the ratio of the number of correctly classified samples to the total number of samples. The higher the accuracy, the better the algorithm. We will use the accuracy metric to evaluate and compare the performance of the K-Nearest Neighbors model and the random classifier."
      ]
    },
    {
      "cell_type": "code",
      "execution_count": 7,
      "metadata": {
        "id": "ouuCqWU07bz-"
      },
      "outputs": [],
      "source": [
        "def Accuracy(gtlabel, predlabel):\n",
        "    \"\"\"\n",
        "    This function takes in the ground-truth labels and predicted labels\n",
        "    and returns the accuracy of the classifier\n",
        "\n",
        "    gtlabel: numpy array of shape (n,) where n is the number of samples\n",
        "    predlabel: numpy array of shape (n,) where n is the number of samples\n",
        "\n",
        "    returns: the accuracy of the classifier which is the number of correct predictions divided by the total number of predictions\n",
        "    \"\"\"\n",
        "    assert len(gtlabel) == len(\n",
        "        predlabel\n",
        "    ), \"Length of the ground-truth labels and predicted labels should be the same\"\n",
        "    correct = (\n",
        "        gtlabel == predlabel\n",
        "    ).sum()  # count the number of times the groundtruth label is equal to the predicted label.\n",
        "    return correct / len(gtlabel)"
      ]
    },
    {
      "cell_type": "markdown",
      "metadata": {
        "id": "4vJFwBFa9Klw"
      },
      "source": [
        "Let us make a function to split the dataset with the desired probability. We will use this function to split the dataset into training and testing sets. We will use the training set to train the model and the testing set to evaluate the model."
      ]
    },
    {
      "cell_type": "code",
      "execution_count": 8,
      "metadata": {
        "id": "Ko0VzpSM2Tdi"
      },
      "outputs": [],
      "source": [
        "def split(data, label, percent):\n",
        "    # generate a random number for each sample\n",
        "    rnd = rng.random(len(label))\n",
        "    split1 = rnd < percent\n",
        "    split2 = rnd >= percent\n",
        "\n",
        "    split1data = data[split1, :]\n",
        "    split1label = label[split1]\n",
        "    split2data = data[split2, :]\n",
        "    split2label = label[split2]\n",
        "    return split1data, split1label, split2data, split2label"
      ]
    },
    {
      "cell_type": "markdown",
      "metadata": {
        "id": "AcK3LEAJ_LGC"
      },
      "source": [
        "We will reserve 20% of our dataset as the test set. We will not change this portion throughout our experiments"
      ]
    },
    {
      "cell_type": "code",
      "execution_count": 9,
      "metadata": {
        "colab": {
          "base_uri": "https://localhost:8080/"
        },
        "id": "bBZkHBLJ1iU-",
        "outputId": "4ad56555-4454-495b-ca8e-f2f7c4eb9f2c"
      },
      "outputs": [
        {
          "output_type": "stream",
          "name": "stdout",
          "text": [
            "Number of test samples: 4144\n",
            "Number of train samples: 16496\n",
            "Percent of test data: 20.07751937984496 %\n"
          ]
        }
      ],
      "source": [
        "testdata, testlabel, alltraindata, alltrainlabel = split(\n",
        "    dataset.data, dataset.target, 20 / 100\n",
        ")\n",
        "print(\"Number of test samples:\", len(testlabel))\n",
        "print(\"Number of train samples:\", len(alltrainlabel))\n",
        "print(\"Percent of test data:\", len(testlabel) * 100 / len(dataset.target), \"%\")"
      ]
    },
    {
      "cell_type": "markdown",
      "metadata": {
        "id": "a6Ss0Z6IAGNV"
      },
      "source": [
        "## Experiments with splits\n",
        "\n",
        "Let us reserve some of our train data as a validation set"
      ]
    },
    {
      "cell_type": "code",
      "execution_count": 10,
      "metadata": {
        "id": "WFew2iry_7W7"
      },
      "outputs": [],
      "source": [
        "traindata, trainlabel, valdata, vallabel = split(\n",
        "    alltraindata, alltrainlabel, 75 / 100)"
      ]
    },
    {
      "cell_type": "markdown",
      "metadata": {
        "id": "60hiu4clFN1i"
      },
      "source": [
        "What is the accuracy of our classifiers on the train dataset?"
      ]
    },
    {
      "cell_type": "code",
      "execution_count": 11,
      "metadata": {
        "colab": {
          "base_uri": "https://localhost:8080/"
        },
        "id": "DBlZDTHUFTZx",
        "outputId": "16807515-5c54-4887-9567-1e51a8a9b70e"
      },
      "outputs": [
        {
          "output_type": "stream",
          "name": "stdout",
          "text": [
            "Training accuracy using nearest neighbour algorithm: 100.0 %\n",
            "Training accuracy using random classifier:  16.4375808538163 %\n"
          ]
        }
      ],
      "source": [
        "trainpred = NN(traindata, trainlabel, traindata)\n",
        "trainAccuracy = Accuracy(trainlabel, trainpred)\n",
        "print(\"Training accuracy using nearest neighbour algorithm:\", trainAccuracy*100, \"%\")\n",
        "\n",
        "trainpred = RandomClassifier(traindata, trainlabel, traindata)\n",
        "trainAccuracy = Accuracy(trainlabel, trainpred)\n",
        "print(\"Training accuracy using random classifier: \", trainAccuracy*100, \"%\")"
      ]
    },
    {
      "cell_type": "markdown",
      "metadata": {
        "id": "7h08-9gJDtSy"
      },
      "source": [
        "For nearest neighbour, the train accuracy is always 1. The accuracy of the random classifier is close to 1/(number of classes) which is 0.1666 in our case. This is because the random classifier randomly assigns a label to each sample and the probability of assigning the correct label is 1/(number of classes). Let us predict the labels for our validation set and get the accuracy. This accuracy is a good estimate of the accuracy of our model on unseen data."
      ]
    },
    {
      "cell_type": "code",
      "execution_count": 12,
      "metadata": {
        "colab": {
          "base_uri": "https://localhost:8080/"
        },
        "id": "4h7bXoW_2H3v",
        "outputId": "1afefed8-6225-4d17-d7a8-fa22bdc152ca"
      },
      "outputs": [
        {
          "output_type": "stream",
          "name": "stdout",
          "text": [
            "Validation accuracy using nearest neighbour algorithm: 34.10852713178294 %\n",
            "Validation accuracy using random classifier: 16.884689922480618 %\n"
          ]
        }
      ],
      "source": [
        "valpred = NN(traindata, trainlabel, valdata)\n",
        "valAccuracy = Accuracy(vallabel, valpred)\n",
        "print(\"Validation accuracy using nearest neighbour algorithm:\", valAccuracy*100, \"%\")\n",
        "\n",
        "\n",
        "valpred = RandomClassifier(traindata, trainlabel, valdata)\n",
        "valAccuracy = Accuracy(vallabel, valpred)\n",
        "print(\"Validation accuracy using random classifier:\", valAccuracy*100, \"%\")"
      ]
    },
    {
      "cell_type": "markdown",
      "metadata": {
        "id": "py9bLguFEjfg"
      },
      "source": [
        "Validation accuracy of nearest neighbour is considerably less than its train accuracy while the validation accuracy of random classifier is the same. However, the validation accuracy of nearest neighbour is twice that of the random classifier. Now let us try another random split and check the validation accuracy. We will see that the validation accuracy changes with the split. This is because the validation set is small and the accuracy is highly dependent on the samples in the validation set. We can get a better estimate of the accuracy by using cross-validation."
      ]
    },
    {
      "cell_type": "code",
      "execution_count": 13,
      "metadata": {
        "colab": {
          "base_uri": "https://localhost:8080/"
        },
        "id": "ujm3cyYzEntE",
        "outputId": "d6866156-1066-4be1-a6c3-1f161c58e1d0"
      },
      "outputs": [
        {
          "output_type": "stream",
          "name": "stdout",
          "text": [
            "Validation accuracy using nearest neighbour algorithm: 34.048257372654156 %\n"
          ]
        }
      ],
      "source": [
        "traindata, trainlabel, valdata, vallabel = split(\n",
        "    alltraindata, alltrainlabel, 75 / 100)\n",
        "valpred = NN(traindata, trainlabel, valdata)\n",
        "valAccuracy = Accuracy(vallabel, valpred)\n",
        "print(\"Validation accuracy using nearest neighbour algorithm:\", valAccuracy*100, \"%\")"
      ]
    },
    {
      "cell_type": "markdown",
      "metadata": {
        "id": "oSOx7U83EKie"
      },
      "source": [
        "You can run the above cell multiple times to try with different random splits.\n",
        "We notice that the accuracy is different for each run, but close together.\n",
        "\n",
        "Now let us compare it with the accuracy we get on the test dataset."
      ]
    },
    {
      "cell_type": "code",
      "execution_count": 14,
      "metadata": {
        "colab": {
          "base_uri": "https://localhost:8080/"
        },
        "id": "PNEZ5ToYBEDW",
        "outputId": "9952100f-3f60-49b0-9411-867b72c8bff2"
      },
      "outputs": [
        {
          "output_type": "stream",
          "name": "stdout",
          "text": [
            "Test accuracy: 34.91795366795367 %\n"
          ]
        }
      ],
      "source": [
        "testpred = NN(alltraindata, alltrainlabel, testdata)\n",
        "testAccuracy = Accuracy(testlabel, testpred)\n",
        "\n",
        "print(\"Test accuracy:\", testAccuracy*100, \"%\")"
      ]
    },
    {
      "cell_type": "markdown",
      "metadata": {
        "id": "w3dGD531K3gH"
      },
      "source": [
        "### Try it out for yourself and answer:\n",
        "1. How is the accuracy of the validation set affected if we increase the percentage of validation set? What happens when we reduce it?\n",
        "2. How does the size of the train and validation set affect how well we can predict the accuracy on the test set using the validation set?\n",
        "3. What do you think is a good percentage to reserve for the validation set so that thest two factors are balanced?\n",
        "\n",
        "Answer for both nearest neighbour and random classifier. You can note down the values for your experiments and plot a graph using  <a href=https://matplotlib.org/stable/gallery/lines_bars_and_markers/step_demo.html#sphx-glr-gallery-lines-bars-and-markers-step-demo-py>plt.plot<href>. Check also for extreme values for splits, like 99.9% or 0.1%"
      ]
    },
    {
      "cell_type": "markdown",
      "metadata": {
        "id": "M9zvdYY6evgI"
      },
      "source": [
        "> Exercise: Try to implement a 3 nearest neighbour classifier and compare the accuracy of the 1 nearest neighbour classifier and the 3 nearest neighbour classifier on the test dataset. You can use the KNeighborsClassifier class from the scikit-learn library to implement the K-Nearest Neighbors model. You can set the number of neighbors using the n_neighbors parameter. You can also use the accuracy_score function from the scikit-learn library to calculate the accuracy of the model."
      ]
    },
    {
      "cell_type": "code",
      "source": [
        "import numpy as np\n",
        "import matplotlib.pyplot as plt\n",
        "from sklearn.datasets import load_digits\n",
        "from sklearn.model_selection import train_test_split\n",
        "from sklearn.neighbors import KNeighborsClassifier\n",
        "from sklearn.metrics import accuracy_score\n",
        "\n",
        "# Load dataset\n",
        "digits = load_digits()\n",
        "X, y = digits.data, digits.target\n",
        "\n",
        "# Define split percentages (validation set size)\n",
        "val_sizes = [0.001, 0.01, 0.05, 0.1, 0.2, 0.3, 0.5, 0.8, 0.99]\n",
        "\n",
        "# Store accuracies\n",
        "acc_1nn = []\n",
        "acc_3nn = []\n",
        "acc_random = []\n",
        "\n",
        "# Run experiments for different validation set sizes\n",
        "for val_size in val_sizes:\n",
        "    X_train, X_val, y_train, y_val = train_test_split(X, y, test_size=val_size, random_state=42)\n",
        "\n",
        "    # 1-NN Classifier\n",
        "    knn1 = KNeighborsClassifier(n_neighbors=1)\n",
        "    knn1.fit(X_train, y_train)\n",
        "    pred_1nn = knn1.predict(X_val)\n",
        "    acc_1nn.append(accuracy_score(y_val, pred_1nn))\n",
        "\n",
        "    # 3-NN Classifier\n",
        "    knn3 = KNeighborsClassifier(n_neighbors=3)\n",
        "    knn3.fit(X_train, y_train)\n",
        "    pred_3nn = knn3.predict(X_val)\n",
        "    acc_3nn.append(accuracy_score(y_val, pred_3nn))\n",
        "\n",
        "    # Random Classifier (random guesses)\n",
        "    rand_pred = np.random.choice(np.unique(y), size=len(y_val))\n",
        "    acc_random.append(accuracy_score(y_val, rand_pred))\n",
        "\n",
        "plt.figure(figsize=(12, 6))\n",
        "plt.plot(val_sizes, acc_1nn, marker='o', label='1-NN Accuracy')\n",
        "plt.plot(val_sizes, acc_3nn, marker='s', label='3-NN Accuracy')\n",
        "plt.plot(val_sizes, acc_random, marker='x', label='Random Classifier Accuracy')\n",
        "plt.xlabel('Validation Set Size (as % of dataset)')\n",
        "plt.ylabel('Validation Accuracy')\n",
        "plt.title('Accuracy vs Validation Set Size')\n",
        "plt.legend()\n",
        "plt.grid(True)\n",
        "plt.show()\n"
      ],
      "metadata": {
        "colab": {
          "base_uri": "https://localhost:8080/",
          "height": 564
        },
        "id": "q1WaX4-udfzm",
        "outputId": "f5785049-f8b5-459b-dfb4-8fac4747b913"
      },
      "execution_count": 15,
      "outputs": [
        {
          "output_type": "display_data",
          "data": {
            "text/plain": [
              "<Figure size 1200x600 with 1 Axes>"
            ],
            "image/png": "[encoded data removed]"
          },
          "metadata": {}
        }
      ]
    },
    {
      "cell_type": "markdown",
      "source": [
        "##How is the accuracy of the validation set affected if we increase the percentage of the validation set? What happens when we reduce it?\n",
        "\n",
        "Answer: In the case of the nearest neighbour 1-NN classifier :\n",
        "When we increase our validation set percentage in simple words we reduce the amount of our training data. Hence , the model has less data to learn from and therefore it's predictive performance decreases and Validation accuracy may drop due to underfitting. But the validation estimate becomes more stable and reliable, since it's evaluated over more data.\n",
        "\n",
        "On the other hand when we reduce it , we increase training data and therefore the model learns better leading to potential improvement in the model quality.However, the validation accuracy can become noisy because small datasets can lead to overestimation or underestimation of actual performance.\n",
        "\n",
        "when discussing about a random classifier  it is a model that does not learn anything from the training data. Instead, it makes predictions completely at random. For example, if there are 10 possible classes, it picks one of them with equal probability — so, it has about a 10% chance of being right for each prediction.\n",
        "When you increase the validation size for a random classifier\n",
        "The overall accuracy will still be around chance level i.e 10% for 10 classes. However, the accuracy becomes more stable and consistent, because it's averaged over a larger number of examples. The random ups and downs get evened out.\n",
        "\n",
        "Similarly , When you reduce the validation size the accuracy can fluctuate a lot — sometimes it may look higher, sometimes lower — just due to random chance. With fewer data points, your accuracy estimate becomes less reliable, because it's more affected by randomness.\n",
        "Random classifiers guess blindly, and their performance doesn't improve with training. A larger validation set gives a more stable estimate of how bad they are, while a smaller one makes their bad performance look unpredictable.\n",
        "\n",
        "\n",
        "\n",
        "\n",
        "\n",
        "\n",
        "\n"
      ],
      "metadata": {
        "id": "mhbZSGE9ijj7"
      }
    },
    {
      "cell_type": "markdown",
      "source": [
        "##How does the size of the train and validation set affect how well we can predict the accuracy on the test set using the validation set?\n",
        "\n",
        "In the case of the 1-Nearest Neighbour (1-NN) Classifier different validation sets can have different impact on accuracy and this can be explained for a few different cases.\n",
        "for example if we have a too small validation set then validation accuracy becomes unreliable due to sampling noise and it does not reflect the generalization ability of the model well.\n",
        "if we have too small training set the Model performance suffers(especially for instance-based models like KNN).The model may underfit and fail to generalize to test data.\n",
        "\n",
        "In the case of a Balanced split (~20–30% validation):\n",
        "There is enough data to train the model well.\n",
        "Validation accuracy becomes a good estimator of how well the model might do on test data.\n",
        "\n",
        "In the case of a Random Classifier\n",
        "Since this classifier doesn’t learn:\n",
        "Training set size has no impact. The only consideration is validation set size and Larger validation set gives a more reliable estimate of its (low) performance.Smaller validation set may lead to more variance in results."
      ],
      "metadata": {
        "id": "klSdzfTYb2Jm"
      }
    },
    {
      "cell_type": "markdown",
      "source": [
        "##What do you think is a good percentage to reserve for the validation set so that these two factors are balanced?\n",
        "1-Nearest Neighbour (1-NN) Classifier\n",
        "Best practice: 20% to 30% of data as validation set.\n",
        "Gives the model enough data to learn meaningful patterns.\n",
        "Validation accuracy remains statistically reliable.\n",
        "Going too high (e.g., 80–90%) weakens the model’s learning capacity.\n",
        "Going too low (e.g., 1–5%) makes validation noisy and unreliable.\n",
        "\n",
        "Random Classifier\n",
        "Since it doesn’t rely on training data\n",
        "You can reserve a larger portion for validation (even 50% or more) just to stabilize the accuracy estimate.\n",
        "There's no trade-off with model learning because it doesn’t learn."
      ],
      "metadata": {
        "id": "sNuLSom3c9sU"
      }
    },
    {
      "cell_type": "code",
      "source": [
        "#exercise\n",
        "# Split the data into training and test sets (80% train, 20% test)\n",
        "X_train, X_test, y_train, y_test = train_test_split(X, y, test_size=0.2, random_state=42)\n",
        "\n",
        "# 1-Nearest Neighbour Classifier\n",
        "knn1 = KNeighborsClassifier(n_neighbors=1)\n",
        "knn1.fit(X_train, y_train)\n",
        "pred_1nn_test = knn1.predict(X_test)\n",
        "acc_1nn_test = accuracy_score(y_test, pred_1nn_test)\n",
        "\n",
        "# 3-Nearest Neighbour Classifier\n",
        "knn3 = KNeighborsClassifier(n_neighbors=3)\n",
        "knn3.fit(X_train, y_train)\n",
        "pred_3nn_test = knn3.predict(X_test)\n",
        "acc_3nn_test = accuracy_score(y_test, pred_3nn_test)\n",
        "\n",
        "acc_1nn_test, acc_3nn_test\n"
      ],
      "metadata": {
        "colab": {
          "base_uri": "https://localhost:8080/"
        },
        "id": "1DVWcYUpd5sF",
        "outputId": "856f4033-fe29-4f66-a865-2bf00fec34a5"
      },
      "execution_count": 16,
      "outputs": [
        {
          "output_type": "execute_result",
          "data": {
            "text/plain": [
              "(0.9777777777777777, 0.9833333333333333)"
            ]
          },
          "metadata": {},
          "execution_count": 16
        }
      ]
    },
    {
      "cell_type": "markdown",
      "metadata": {
        "id": "PnYvkAZLQY7h"
      },
      "source": [
        "## Multiple Splits\n",
        "\n",
        "One way to get more accurate estimates for the test accuracy is by using <b>cross-validation</b>. Here, we will try a simple version, where we do multiple train/val splits and take the average of validation accuracies as the test accuracy estimation. Here is a function for doing this. Note that this function will take a long time to execute. You can reduce the number of splits to make it faster."
      ]
    },
    {
      "cell_type": "code",
      "execution_count": 17,
      "metadata": {
        "id": "E4nGCUQXBTzo"
      },
      "outputs": [],
      "source": [
        "def AverageAccuracy(alldata, alllabel, splitpercent, iterations, classifier=NN):\n",
        "    \"\"\"\n",
        "    This function takes in the data, labels, split percentage, number of iterations and classifier function\n",
        "    and returns the average accuracy of the classifier\n",
        "\n",
        "    alldata: numpy array of shape (n,d) where n is the number of samples and d is the number of features\n",
        "    alllabel: numpy array of shape (n,) where n is the number of samples\n",
        "    splitpercent: float which is the percentage of data to be used for training\n",
        "    iterations: int which is the number of iterations to run the classifier\n",
        "    classifier: function which is the classifier function to be used\n",
        "\n",
        "    returns: the average accuracy of the classifier\n",
        "    \"\"\"\n",
        "    accuracy = 0\n",
        "    for ii in range(iterations):\n",
        "        traindata, trainlabel, valdata, vallabel = split(\n",
        "            alldata, alllabel, splitpercent\n",
        "        )\n",
        "        valpred = classifier(traindata, trainlabel, valdata)\n",
        "        accuracy += Accuracy(vallabel, valpred)\n",
        "    return accuracy / iterations  # average of all accuracies"
      ]
    },
    {
      "cell_type": "code",
      "execution_count": 18,
      "metadata": {
        "colab": {
          "base_uri": "https://localhost:8080/"
        },
        "id": "H3qtNar7Bbik",
        "outputId": "30ba9f0f-b28f-4d30-a85f-abecae691c40"
      },
      "outputs": [
        {
          "output_type": "stream",
          "name": "stdout",
          "text": [
            "Average validation accuracy: 33.58463539517022 %\n",
            "Test accuracy: 34.91795366795367 %\n"
          ]
        }
      ],
      "source": [
        "avg_acc = AverageAccuracy(alltraindata, alltrainlabel, 75 / 100, 10, classifier=NN)\n",
        "print(\"Average validation accuracy:\", avg_acc*100, \"%\")\n",
        "testpred = NN(alltraindata, alltrainlabel, testdata)\n",
        "\n",
        "print(\"Test accuracy:\", Accuracy(testlabel, testpred)*100, \"%\")"
      ]
    },
    {
      "cell_type": "markdown",
      "metadata": {
        "id": "33GIn4x5VH-d"
      },
      "source": [
        "This is a very simple way of doing cross-validation. There are many well-known algorithms for cross-validation, like k-fold cross-validation, leave-one-out etc. This will be covered in detail in a later module. For more information about cross-validation, check <a href=https://en.wikipedia.org/wiki/Cross-validation_(statistics)>Cross-validatioin (Wikipedia)</a>\n",
        "\n",
        "### Questions\n",
        "1. Does averaging the validation accuracy across multiple splits give more consistent results?\n",
        "2. Does it give more accurate estimate of test accuracy?\n",
        "3. What is the effect of the number of iterations on the estimate? Do we get a better estimate with higher iterations?\n",
        "4. Consider the results you got for the previous questions. Can we deal with a very small train dataset or validation dataset by increasing the iterations?\n"
      ]
    },
    {
      "cell_type": "markdown",
      "metadata": {
        "id": "z-SBxy1qevgJ"
      },
      "source": [
        "> Exercise: How does the accuracy of the 3 nearest neighbour classifier change with the number of splits? How is it affected by the split size? Compare the results with the 1 nearest neighbour classifier."
      ]
    },
    {
      "cell_type": "markdown",
      "source": [
        "##1. Does averaging the validation accuracy across multiple splits give more consistent results?\n",
        "Yes.When we average validation accuracy over multiple splits, we reduce the effect of random variations in any single split (like getting a lucky or unlucky batch of data). This gives more stable and consistent results. For example: With just 1 split, the accuracy can vary a lot.\n",
        "With 10–20 splits, the average smooths out the noise and gives a better picture of real performance."
      ],
      "metadata": {
        "id": "e2UekUHeekP4"
      }
    },
    {
      "cell_type": "markdown",
      "source": [
        "##2. Does it give a more accurate estimate of test accuracy?\n",
        "Yes, it usually does.The whole point of validation is to estimate how well your model will do on unseen (test) data. When you average across multiple validation sets You’re simulating how the model would perform on varied, unseen data. So, your average validation accuracy becomes closer to the true test accuracy.\n",
        "From our previous test Test accuracy of 3-NN was 98.33%.\n",
        "Averaged validation accuracy over many splits was very close to this."
      ],
      "metadata": {
        "id": "y2tzDOo-ep1L"
      }
    },
    {
      "cell_type": "markdown",
      "source": [
        "##3. What is the effect of the number of iterations on the estimate? Do we get a better estimate with higher iterations?\n",
        "Yes! Higher iterations = better estimate.\n",
        "More iterations give you a smoother, less biased estimate.\n",
        "and reduce the impact of “lucky” or “unlucky” data samples.\n",
        "But after a certain point (say, 20+ iterations), the improvement becomes smaller, and the cost in time increases.\n",
        "So 1 iteration = risky and can be misleading.\n",
        "5–10 iterations = decent.\n",
        "20+ iterations = reliable and more robust estimate."
      ],
      "metadata": {
        "id": "y5wg_IAWe4At"
      }
    },
    {
      "cell_type": "markdown",
      "source": [
        "##4. Can we deal with a very small train or validation dataset by increasing the iterations?\n",
        "Yes, up to a point. If you have only a small dataset:\n",
        "Doing more random splits and averaging can help squeeze more information out. It lets every data point get a chance to be in training and validation, which is helpful when data is limited.\n",
        "But If the training set is too tiny (like <1%), no matter how many splits you do, the model won’t learn well. Same with a tiny validation set — it won’t reflect true performance. So yes, increasing iterations helps, but it can’t completely fix very small dataset sizes.\n",
        "\n"
      ],
      "metadata": {
        "id": "DYmPxm4efKNV"
      }
    },
    {
      "cell_type": "code",
      "source": [
        "import numpy as np\n",
        "from sklearn.datasets import load_iris\n",
        "from sklearn.neighbors import KNeighborsClassifier\n",
        "from sklearn.model_selection import KFold, train_test_split\n",
        "from sklearn.metrics import accuracy_score\n",
        "\n",
        "# Load dataset (Iris dataset for example)\n",
        "data = load_iris()\n",
        "X, y = data.data, data.target\n",
        "\n",
        "def evaluate_knn_splits(X, y, n_neighbors, n_splits):\n",
        "    kf = KFold(n_splits=n_splits, shuffle=True, random_state=42)\n",
        "    accuracies = []\n",
        "\n",
        "    for train_index, test_index in kf.split(X):\n",
        "        X_train, X_test = X[train_index], X[test_index]\n",
        "        y_train, y_test = y[train_index], y[test_index]\n",
        "\n",
        "        model = KNeighborsClassifier(n_neighbors=n_neighbors)\n",
        "        model.fit(X_train, y_train)\n",
        "        y_pred = model.predict(X_test)\n",
        "        accuracies.append(accuracy_score(y_test, y_pred))\n",
        "\n",
        "    return np.mean(accuracies)\n",
        "\n",
        "# Experiment 1: Accuracy vs number of splits for 1-NN and 3-NN\n",
        "split_numbers = [2, 3, 5, 10]\n",
        "print(\"Accuracy vs Number of Splits\")\n",
        "for splits in split_numbers:\n",
        "    acc_1nn = evaluate_knn_splits(X, y, n_neighbors=1, n_splits=splits)\n",
        "    acc_3nn = evaluate_knn_splits(X, y, n_neighbors=3, n_splits=splits)\n",
        "    print(f\"Splits: {splits} | 1-NN Accuracy: {acc_1nn:.3f} | 3-NN Accuracy: {acc_3nn:.3f}\")\n",
        "\n",
        "# Experiment 2: Accuracy vs Split Size using train_test_split (1-NN and 3-NN)\n",
        "split_sizes = [0.9, 0.7, 0.5, 0.3]  # Training size proportions\n",
        "print(\"\\nAccuracy vs Training Split Size\")\n",
        "for train_size in split_sizes:\n",
        "    X_train, X_test, y_train, y_test = train_test_split(\n",
        "        X, y, train_size=train_size, random_state=42, shuffle=True)\n",
        "\n",
        "    model_1nn = KNeighborsClassifier(n_neighbors=1)\n",
        "    model_1nn.fit(X_train, y_train)\n",
        "    acc_1nn = accuracy_score(y_test, model_1nn.predict(X_test))\n",
        "\n",
        "    model_3nn = KNeighborsClassifier(n_neighbors=3)\n",
        "    model_3nn.fit(X_train, y_train)\n",
        "    acc_3nn = accuracy_score(y_test, model_3nn.predict(X_test))\n",
        "\n",
        "    print(f\"Train Size: {train_size:.1f} | 1-NN Accuracy: {acc_1nn:.3f} | 3-NN Accuracy: {acc_3nn:.3f}\")\n"
      ],
      "metadata": {
        "colab": {
          "base_uri": "https://localhost:8080/"
        },
        "id": "AcBdMhsSfu-S",
        "outputId": "ff332ab1-eda0-4798-f132-b0d2238a2b75"
      },
      "execution_count": 19,
      "outputs": [
        {
          "output_type": "stream",
          "name": "stdout",
          "text": [
            "Accuracy vs Number of Splits\n",
            "Splits: 2 | 1-NN Accuracy: 0.953 | 3-NN Accuracy: 0.960\n",
            "Splits: 3 | 1-NN Accuracy: 0.960 | 3-NN Accuracy: 0.960\n",
            "Splits: 5 | 1-NN Accuracy: 0.960 | 3-NN Accuracy: 0.967\n",
            "Splits: 10 | 1-NN Accuracy: 0.960 | 3-NN Accuracy: 0.967\n",
            "\n",
            "Accuracy vs Training Split Size\n",
            "Train Size: 0.9 | 1-NN Accuracy: 1.000 | 3-NN Accuracy: 1.000\n",
            "Train Size: 0.7 | 1-NN Accuracy: 1.000 | 3-NN Accuracy: 1.000\n",
            "Train Size: 0.5 | 1-NN Accuracy: 0.973 | 3-NN Accuracy: 0.973\n",
            "Train Size: 0.3 | 1-NN Accuracy: 0.962 | 3-NN Accuracy: 0.971\n"
          ]
        }
      ]
    },
    {
      "cell_type": "code",
      "source": [
        "import numpy as np\n",
        "import matplotlib.pyplot as plt\n",
        "from sklearn.datasets import load_iris\n",
        "from sklearn.neighbors import KNeighborsClassifier\n",
        "from sklearn.model_selection import KFold, train_test_split\n",
        "from sklearn.metrics import accuracy_score\n",
        "\n",
        "# Load dataset\n",
        "data = load_iris()\n",
        "X, y = data.data, data.target\n",
        "\n",
        "def evaluate_knn_splits(X, y, n_neighbors, n_splits):\n",
        "    kf = KFold(n_splits=n_splits, shuffle=True, random_state=42)\n",
        "    accuracies = []\n",
        "\n",
        "    for train_index, test_index in kf.split(X):\n",
        "        X_train, X_test = X[train_index], X[test_index]\n",
        "        y_train, y_test = y[train_index], y[test_index]\n",
        "\n",
        "        model = KNeighborsClassifier(n_neighbors=n_neighbors)\n",
        "        model.fit(X_train, y_train)\n",
        "        y_pred = model.predict(X_test)\n",
        "        accuracies.append(accuracy_score(y_test, y_pred))\n",
        "\n",
        "    return np.mean(accuracies)\n",
        "\n",
        "# Experiment 1: Accuracy vs Number of Splits\n",
        "split_numbers = [2, 3, 5, 10]\n",
        "acc_1nn_splits = []\n",
        "acc_3nn_splits = []\n",
        "\n",
        "for splits in split_numbers:\n",
        "    acc_1nn_splits.append(evaluate_knn_splits(X, y, n_neighbors=1, n_splits=splits))\n",
        "    acc_3nn_splits.append(evaluate_knn_splits(X, y, n_neighbors=3, n_splits=splits))\n",
        "\n",
        "# Plot Experiment 1\n",
        "plt.figure(figsize=(8, 5))\n",
        "plt.plot(split_numbers, acc_1nn_splits, marker='o', label='1-NN Accuracy')\n",
        "plt.plot(split_numbers, acc_3nn_splits, marker='s', label='3-NN Accuracy')\n",
        "plt.title('Accuracy vs Number of Splits (K-Fold CV)')\n",
        "plt.xlabel('Number of Splits')\n",
        "plt.ylabel('Mean Accuracy')\n",
        "plt.xticks(split_numbers)\n",
        "plt.grid(True)\n",
        "plt.legend()\n",
        "plt.show()\n",
        "\n",
        "# Experiment 2: Accuracy vs Training Split Size\n",
        "split_sizes = [0.9, 0.7, 0.5, 0.3]\n",
        "acc_1nn_splitsize = []\n",
        "acc_3nn_splitsize = []\n",
        "\n",
        "for train_size in split_sizes:\n",
        "    X_train, X_test, y_train, y_test = train_test_split(\n",
        "        X, y, train_size=train_size, random_state=42, shuffle=True)\n",
        "\n",
        "    model_1nn = KNeighborsClassifier(n_neighbors=1)\n",
        "    model_1nn.fit(X_train, y_train)\n",
        "    acc_1nn_splitsize.append(accuracy_score(y_test, model_1nn.predict(X_test)))\n",
        "\n",
        "    model_3nn = KNeighborsClassifier(n_neighbors=3)\n",
        "    model_3nn.fit(X_train, y_train)\n",
        "    acc_3nn_splitsize.append(accuracy_score(y_test, model_3nn.predict(X_test)))\n",
        "\n",
        "# Plot Experiment 2\n",
        "plt.figure(figsize=(8, 5))\n",
        "plt.plot(split_sizes, acc_1nn_splitsize, marker='o', label='1-NN Accuracy')\n",
        "plt.plot(split_sizes, acc_3nn_splitsize, marker='s', label='3-NN Accuracy')\n",
        "plt.title('Accuracy vs Training Split Size')\n",
        "plt.xlabel('Training Size Proportion')\n",
        "plt.ylabel('Accuracy')\n",
        "plt.xticks(split_sizes)\n",
        "plt.grid(True)\n",
        "plt.legend()\n",
        "plt.show()\n"
      ],
      "metadata": {
        "id": "9yU-SdN_fw0K",
        "outputId": "768803d1-64b0-47b6-bf47-934cf9dc44f9",
        "colab": {
          "base_uri": "https://localhost:8080/",
          "height": 957
        }
      },
      "execution_count": 20,
      "outputs": [
        {
          "output_type": "display_data",
          "data": {
            "text/plain": [
              "<Figure size 800x500 with 1 Axes>"
            ],
            "image/png": "[encoded data removed]"
          },
          "metadata": {}
        },
        {
          "output_type": "display_data",
          "data": {
            "text/plain": [
              "<Figure size 800x500 with 1 Axes>"
            ],
            "image/png": "[encoded data removed]"
          },
          "metadata": {}
        }
      ]
    }
  ],
  "metadata": {
    "colab": {
      "provenance": [],
      "include_colab_link": true
    },
    "kernelspec": {
      "display_name": "Python 3",
      "name": "python3"
    },
    "language_info": {
      "codemirror_mode": {
        "name": "ipython",
        "version": 3
      },
      "file_extension": ".py",
      "mimetype": "text/x-python",
      "name": "python",
      "nbconvert_exporter": "python",
      "pygments_lexer": "ipython3",
      "version": "3.10.10"
    }
  },
  "nbformat": 4,
  "nbformat_minor": 0
}